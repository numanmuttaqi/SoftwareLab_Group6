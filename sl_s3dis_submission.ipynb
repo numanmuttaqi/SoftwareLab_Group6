{
 "cells": [
  {
   "cell_type": "code",
   "execution_count": 1,
   "metadata": {
    "dotnet_interactive": {
     "language": "csharp"
    },
    "polyglot_notebook": {
     "kernelName": "csharp"
    }
   },
   "outputs": [],
   "source": [
    "import open3d.ml as _ml3d\n",
    "import open3d.ml.torch as ml3d\n",
    "import pandas as pd\n",
    "import numpy as np\n",
    "import os"
   ]
  },
  {
   "cell_type": "code",
   "execution_count": 2,
   "metadata": {},
   "outputs": [],
   "source": [
    "# Load configuration and model\n",
    "cfg_file = \"/Users/muhammadnumanmuttaqi/Documents/MScITBE/Semester2/E_SoftwareLab/SL/Open3D-ML-main/ml3d/configs/randlanet_s3dis.yml\"\n",
    "cfg = _ml3d.utils.Config.load_from_file(cfg_file)"
   ]
  },
  {
   "cell_type": "code",
   "execution_count": 3,
   "metadata": {},
   "outputs": [],
   "source": [
    "# Load dataset and pipeline\n",
    "model = ml3d.models.RandLANet(**cfg.model)\n",
    "cfg.dataset['dataset_path'] = \"S3DIS\"\n",
    "dataset = ml3d.datasets.S3DIS(cfg.dataset.pop('dataset_path', None), **cfg.dataset)\n",
    "pipeline = ml3d.pipelines.SemanticSegmentation(model, dataset=dataset, device='gpu', **cfg.pipeline)\n"
   ]
  },
  {
   "cell_type": "code",
   "execution_count": 4,
   "metadata": {},
   "outputs": [],
   "source": [
    "# Download and load pretrained weights\n",
    "ckpt_folder = \"/Users/muhammadnumanmuttaqi/Documents/MScITBE/Semester2/SoftwareLab/SL/logs/\"\n",
    "os.makedirs(ckpt_folder, exist_ok=True)\n",
    "ckpt_path = \"/Users/muhammadnumanmuttaqi/Documents/MScITBE/Semester2/E_SoftwareLab/SL/logs/randlanet_s3dis_202201071330utc.pth\"\n",
    "\n",
    "# load the parameters.\n",
    "pipeline.load_ckpt(ckpt_path=ckpt_path)\n"
   ]
  },
  {
   "cell_type": "code",
   "execution_count": 7,
   "metadata": {},
   "outputs": [
    {
     "name": "stdout",
     "output_type": "stream",
     "text": [
      "attributes:  {'idx': 0, 'name': 'Area_5_storage_4', 'path': 'S3DIS/original_pkl/Area_5_storage_4.pkl', 'split': 'test'}\n",
      "attributes:  {'idx': 1, 'name': 'Area_5_hallway_11', 'path': 'S3DIS/original_pkl/Area_5_hallway_11.pkl', 'split': 'test'}\n",
      "attributes:  {'idx': 2, 'name': 'Area_5_hallway_10', 'path': 'S3DIS/original_pkl/Area_5_hallway_10.pkl', 'split': 'test'}\n",
      "attributes:  {'idx': 3, 'name': 'Area_5_hallway_12', 'path': 'S3DIS/original_pkl/Area_5_hallway_12.pkl', 'split': 'test'}\n",
      "attributes:  {'idx': 4, 'name': 'Area_5_hallway_13', 'path': 'S3DIS/original_pkl/Area_5_hallway_13.pkl', 'split': 'test'}\n",
      "attributes:  {'idx': 5, 'name': 'Area_5_storage_2', 'path': 'S3DIS/original_pkl/Area_5_storage_2.pkl', 'split': 'test'}\n",
      "attributes:  {'idx': 6, 'name': 'Area_5_storage_3', 'path': 'S3DIS/original_pkl/Area_5_storage_3.pkl', 'split': 'test'}\n",
      "attributes:  {'idx': 7, 'name': 'Area_5_storage_1', 'path': 'S3DIS/original_pkl/Area_5_storage_1.pkl', 'split': 'test'}\n",
      "attributes:  {'idx': 8, 'name': 'Area_5_hallway_9', 'path': 'S3DIS/original_pkl/Area_5_hallway_9.pkl', 'split': 'test'}\n",
      "attributes:  {'idx': 9, 'name': 'Area_5_hallway_14', 'path': 'S3DIS/original_pkl/Area_5_hallway_14.pkl', 'split': 'test'}\n",
      "attributes:  {'idx': 10, 'name': 'Area_5_hallway_15', 'path': 'S3DIS/original_pkl/Area_5_hallway_15.pkl', 'split': 'test'}\n",
      "attributes:  {'idx': 11, 'name': 'Area_5_hallway_8', 'path': 'S3DIS/original_pkl/Area_5_hallway_8.pkl', 'split': 'test'}\n",
      "attributes:  {'idx': 12, 'name': 'Area_5_office_13', 'path': 'S3DIS/original_pkl/Area_5_office_13.pkl', 'split': 'test'}\n",
      "attributes:  {'idx': 13, 'name': 'Area_5_office_8', 'path': 'S3DIS/original_pkl/Area_5_office_8.pkl', 'split': 'test'}\n",
      "attributes:  {'idx': 14, 'name': 'Area_5_office_9', 'path': 'S3DIS/original_pkl/Area_5_office_9.pkl', 'split': 'test'}\n",
      "attributes:  {'idx': 15, 'name': 'Area_5_pantry_1', 'path': 'S3DIS/original_pkl/Area_5_pantry_1.pkl', 'split': 'test'}\n",
      "attributes:  {'idx': 16, 'name': 'Area_5_office_12', 'path': 'S3DIS/original_pkl/Area_5_office_12.pkl', 'split': 'test'}\n",
      "attributes:  {'idx': 17, 'name': 'Area_5_WC_2', 'path': 'S3DIS/original_pkl/Area_5_WC_2.pkl', 'split': 'test'}\n",
      "attributes:  {'idx': 18, 'name': 'Area_5_office_38', 'path': 'S3DIS/original_pkl/Area_5_office_38.pkl', 'split': 'test'}\n",
      "attributes:  {'idx': 19, 'name': 'Area_5_office_10', 'path': 'S3DIS/original_pkl/Area_5_office_10.pkl', 'split': 'test'}\n",
      "attributes:  {'idx': 20, 'name': 'Area_5_office_11', 'path': 'S3DIS/original_pkl/Area_5_office_11.pkl', 'split': 'test'}\n",
      "attributes:  {'idx': 21, 'name': 'Area_5_WC_1', 'path': 'S3DIS/original_pkl/Area_5_WC_1.pkl', 'split': 'test'}\n",
      "attributes:  {'idx': 22, 'name': 'Area_5_office_39', 'path': 'S3DIS/original_pkl/Area_5_office_39.pkl', 'split': 'test'}\n",
      "attributes:  {'idx': 23, 'name': 'Area_5_office_15', 'path': 'S3DIS/original_pkl/Area_5_office_15.pkl', 'split': 'test'}\n",
      "attributes:  {'idx': 24, 'name': 'Area_5_office_29', 'path': 'S3DIS/original_pkl/Area_5_office_29.pkl', 'split': 'test'}\n",
      "attributes:  {'idx': 25, 'name': 'Area_5_office_28', 'path': 'S3DIS/original_pkl/Area_5_office_28.pkl', 'split': 'test'}\n",
      "attributes:  {'idx': 26, 'name': 'Area_5_office_14', 'path': 'S3DIS/original_pkl/Area_5_office_14.pkl', 'split': 'test'}\n",
      "attributes:  {'idx': 27, 'name': 'Area_5_office_16', 'path': 'S3DIS/original_pkl/Area_5_office_16.pkl', 'split': 'test'}\n",
      "attributes:  {'idx': 28, 'name': 'Area_5_office_17', 'path': 'S3DIS/original_pkl/Area_5_office_17.pkl', 'split': 'test'}\n",
      "attributes:  {'idx': 29, 'name': 'Area_5_office_26', 'path': 'S3DIS/original_pkl/Area_5_office_26.pkl', 'split': 'test'}\n",
      "attributes:  {'idx': 30, 'name': 'Area_5_office_32', 'path': 'S3DIS/original_pkl/Area_5_office_32.pkl', 'split': 'test'}\n",
      "attributes:  {'idx': 31, 'name': 'Area_5_office_1', 'path': 'S3DIS/original_pkl/Area_5_office_1.pkl', 'split': 'test'}\n",
      "attributes:  {'idx': 32, 'name': 'Area_5_office_33', 'path': 'S3DIS/original_pkl/Area_5_office_33.pkl', 'split': 'test'}\n",
      "attributes:  {'idx': 33, 'name': 'Area_5_office_27', 'path': 'S3DIS/original_pkl/Area_5_office_27.pkl', 'split': 'test'}\n",
      "attributes:  {'idx': 34, 'name': 'Area_5_lobby_1', 'path': 'S3DIS/original_pkl/Area_5_lobby_1.pkl', 'split': 'test'}\n",
      "attributes:  {'idx': 35, 'name': 'Area_5_office_19', 'path': 'S3DIS/original_pkl/Area_5_office_19.pkl', 'split': 'test'}\n",
      "attributes:  {'idx': 36, 'name': 'Area_5_office_31', 'path': 'S3DIS/original_pkl/Area_5_office_31.pkl', 'split': 'test'}\n",
      "attributes:  {'idx': 37, 'name': 'Area_5_office_25', 'path': 'S3DIS/original_pkl/Area_5_office_25.pkl', 'split': 'test'}\n",
      "attributes:  {'idx': 38, 'name': 'Area_5_office_2', 'path': 'S3DIS/original_pkl/Area_5_office_2.pkl', 'split': 'test'}\n",
      "attributes:  {'idx': 39, 'name': 'Area_5_office_3', 'path': 'S3DIS/original_pkl/Area_5_office_3.pkl', 'split': 'test'}\n",
      "attributes:  {'idx': 40, 'name': 'Area_5_office_24', 'path': 'S3DIS/original_pkl/Area_5_office_24.pkl', 'split': 'test'}\n",
      "attributes:  {'idx': 41, 'name': 'Area_5_office_30', 'path': 'S3DIS/original_pkl/Area_5_office_30.pkl', 'split': 'test'}\n",
      "attributes:  {'idx': 42, 'name': 'Area_5_office_18', 'path': 'S3DIS/original_pkl/Area_5_office_18.pkl', 'split': 'test'}\n",
      "attributes:  {'idx': 43, 'name': 'Area_5_office_34', 'path': 'S3DIS/original_pkl/Area_5_office_34.pkl', 'split': 'test'}\n",
      "attributes:  {'idx': 44, 'name': 'Area_5_office_20', 'path': 'S3DIS/original_pkl/Area_5_office_20.pkl', 'split': 'test'}\n",
      "attributes:  {'idx': 45, 'name': 'Area_5_office_7', 'path': 'S3DIS/original_pkl/Area_5_office_7.pkl', 'split': 'test'}\n",
      "attributes:  {'idx': 46, 'name': 'Area_5_office_6', 'path': 'S3DIS/original_pkl/Area_5_office_6.pkl', 'split': 'test'}\n",
      "attributes:  {'idx': 47, 'name': 'Area_5_office_21', 'path': 'S3DIS/original_pkl/Area_5_office_21.pkl', 'split': 'test'}\n",
      "attributes:  {'idx': 48, 'name': 'Area_5_office_35', 'path': 'S3DIS/original_pkl/Area_5_office_35.pkl', 'split': 'test'}\n",
      "attributes:  {'idx': 49, 'name': 'Area_5_office_23', 'path': 'S3DIS/original_pkl/Area_5_office_23.pkl', 'split': 'test'}\n",
      "attributes:  {'idx': 50, 'name': 'Area_5_office_37', 'path': 'S3DIS/original_pkl/Area_5_office_37.pkl', 'split': 'test'}\n",
      "attributes:  {'idx': 51, 'name': 'Area_5_office_4', 'path': 'S3DIS/original_pkl/Area_5_office_4.pkl', 'split': 'test'}\n",
      "attributes:  {'idx': 52, 'name': 'Area_5_office_5', 'path': 'S3DIS/original_pkl/Area_5_office_5.pkl', 'split': 'test'}\n",
      "attributes:  {'idx': 53, 'name': 'Area_5_office_36', 'path': 'S3DIS/original_pkl/Area_5_office_36.pkl', 'split': 'test'}\n",
      "attributes:  {'idx': 54, 'name': 'Area_5_office_22', 'path': 'S3DIS/original_pkl/Area_5_office_22.pkl', 'split': 'test'}\n",
      "attributes:  {'idx': 55, 'name': 'Area_5_conferenceRoom_1', 'path': 'S3DIS/original_pkl/Area_5_conferenceRoom_1.pkl', 'split': 'test'}\n",
      "attributes:  {'idx': 56, 'name': 'Area_5_hallway_5', 'path': 'S3DIS/original_pkl/Area_5_hallway_5.pkl', 'split': 'test'}\n",
      "attributes:  {'idx': 57, 'name': 'Area_5_hallway_4', 'path': 'S3DIS/original_pkl/Area_5_hallway_4.pkl', 'split': 'test'}\n",
      "attributes:  {'idx': 58, 'name': 'Area_5_conferenceRoom_2', 'path': 'S3DIS/original_pkl/Area_5_conferenceRoom_2.pkl', 'split': 'test'}\n",
      "attributes:  {'idx': 59, 'name': 'Area_5_hallway_6', 'path': 'S3DIS/original_pkl/Area_5_hallway_6.pkl', 'split': 'test'}\n",
      "attributes:  {'idx': 60, 'name': 'Area_5_hallway_7', 'path': 'S3DIS/original_pkl/Area_5_hallway_7.pkl', 'split': 'test'}\n",
      "attributes:  {'idx': 61, 'name': 'Area_5_conferenceRoom_3', 'path': 'S3DIS/original_pkl/Area_5_conferenceRoom_3.pkl', 'split': 'test'}\n",
      "attributes:  {'idx': 62, 'name': 'Area_5_hallway_3', 'path': 'S3DIS/original_pkl/Area_5_hallway_3.pkl', 'split': 'test'}\n",
      "attributes:  {'idx': 63, 'name': 'Area_5_hallway_2', 'path': 'S3DIS/original_pkl/Area_5_hallway_2.pkl', 'split': 'test'}\n",
      "attributes:  {'idx': 64, 'name': 'Area_5_office_42', 'path': 'S3DIS/original_pkl/Area_5_office_42.pkl', 'split': 'test'}\n",
      "attributes:  {'idx': 65, 'name': 'Area_5_office_40', 'path': 'S3DIS/original_pkl/Area_5_office_40.pkl', 'split': 'test'}\n",
      "attributes:  {'idx': 66, 'name': 'Area_5_hallway_1', 'path': 'S3DIS/original_pkl/Area_5_hallway_1.pkl', 'split': 'test'}\n",
      "attributes:  {'idx': 67, 'name': 'Area_5_office_41', 'path': 'S3DIS/original_pkl/Area_5_office_41.pkl', 'split': 'test'}\n"
     ]
    }
   ],
   "source": [
    "# Retrieve the test split to get information of the data (room names) by their index\n",
    "test_split = dataset.get_split(\"test\")\n",
    "\n",
    "# Print attributes of the first datum\n",
    "for i in range(len(test_split)):\n",
    "    # Retrieve each sample\n",
    "    data = test_split.get_attr(i)\n",
    "\n",
    "    print(\"attributes: \", data)\n"
   ]
  },
  {
   "cell_type": "code",
   "execution_count": 8,
   "metadata": {},
   "outputs": [
    {
     "name": "stderr",
     "output_type": "stream",
     "text": [
      "test 0/1: 100%|█████████▉| 52713/52805 [00:02<00:00, 24874.33it/s]"
     ]
    },
    {
     "name": "stdout",
     "output_type": "stream",
     "text": [
      "Accuracy for this sample: 92.86%\n"
     ]
    },
    {
     "name": "stderr",
     "output_type": "stream",
     "text": [
      "test 0/1: 100%|██████████| 52805/52805 [00:19<00:00, 24874.33it/s]"
     ]
    }
   ],
   "source": [
    "# Checking the accuracy for one sample data\n",
    "# Load the test split and retrieve specific sample\n",
    "test_split = dataset.get_split(\"test\")\n",
    "data = test_split.get_data(19) #office_10\n",
    "\n",
    "# Run inference on a single example.\n",
    "result = pipeline.run_inference(data)\n",
    "\n",
    "# Retrieve predicted labels and ground truth labels\n",
    "predicted_labels = result[\"predict_labels\"]\n",
    "ground_truth_labels = data[\"label\"]\n",
    "\n",
    "# Calculate the total number of points and the number of correctly predicted points\n",
    "total_points = len(ground_truth_labels)\n",
    "correct_predictions = (predicted_labels == ground_truth_labels).sum()\n",
    "\n",
    "# Calculate accuracy\n",
    "accuracy = correct_predictions / total_points\n",
    "\n",
    "print(f\"Accuracy for this sample: {accuracy * 100:.2f}%\")"
   ]
  },
  {
   "cell_type": "code",
   "execution_count": null,
   "metadata": {},
   "outputs": [
    {
     "name": "stderr",
     "output_type": "stream",
     "text": [
      "test 0/1: 100%|██████████| 48110/48110 [00:03<00:00, 10267.61it/s]"
     ]
    },
    {
     "name": "stdout",
     "output_type": "stream",
     "text": [
      "Unique object names for room 0 saved to room_0_unique_objects.csv\n"
     ]
    },
    {
     "name": "stderr",
     "output_type": "stream",
     "text": [
      "test 0/1: 100%|██████████| 48110/48110 [00:07<00:00, 6548.11it/s] \n"
     ]
    },
    {
     "name": "stdout",
     "output_type": "stream",
     "text": [
      "Unique object names for room 1 saved to room_1_unique_objects.csv\n"
     ]
    },
    {
     "name": "stderr",
     "output_type": "stream",
     "text": [
      "test 0/1: 100%|██████████| 51884/51884 [00:07<00:00, 7200.74it/s] \n",
      "test 0/1: 100%|██████████| 78356/78356 [00:06<00:00, 10892.20it/s]"
     ]
    },
    {
     "name": "stdout",
     "output_type": "stream",
     "text": [
      "Unique object names for room 2 saved to room_2_unique_objects.csv\n"
     ]
    },
    {
     "name": "stderr",
     "output_type": "stream",
     "text": [
      "test 0/1: 100%|██████████| 78356/78356 [00:10<00:00, 7664.81it/s] \n"
     ]
    },
    {
     "name": "stdout",
     "output_type": "stream",
     "text": [
      "Unique object names for room 3 saved to room_3_unique_objects.csv\n"
     ]
    },
    {
     "name": "stderr",
     "output_type": "stream",
     "text": [
      "test 0/1: 100%|██████████| 51768/51768 [00:07<00:00, 7081.44it/s] \n",
      "test 0/1: 100%|██████████| 85196/85196 [00:09<00:00, 7361.23it/s] "
     ]
    },
    {
     "name": "stdout",
     "output_type": "stream",
     "text": [
      "Unique object names for room 4 saved to room_4_unique_objects.csv\n"
     ]
    },
    {
     "name": "stderr",
     "output_type": "stream",
     "text": [
      "test 0/1: 100%|██████████| 85196/85196 [00:13<00:00, 6430.81it/s]\n"
     ]
    },
    {
     "name": "stdout",
     "output_type": "stream",
     "text": [
      "Unique object names for room 5 saved to room_5_unique_objects.csv\n"
     ]
    },
    {
     "name": "stderr",
     "output_type": "stream",
     "text": [
      "test 0/1: 100%|██████████| 56274/56274 [00:04<00:00, 13922.03it/s]\n"
     ]
    },
    {
     "name": "stdout",
     "output_type": "stream",
     "text": [
      "Unique object names for room 6 saved to room_6_unique_objects.csv\n"
     ]
    },
    {
     "name": "stderr",
     "output_type": "stream",
     "text": [
      "test 0/1: 100%|██████████| 13209/13209 [00:02<00:00, 5157.70it/s]\n"
     ]
    },
    {
     "name": "stdout",
     "output_type": "stream",
     "text": [
      "Unique object names for room 7 saved to room_7_unique_objects.csv\n"
     ]
    },
    {
     "name": "stderr",
     "output_type": "stream",
     "text": [
      "test 0/1: 100%|██████████| 46422/46422 [00:06<00:00, 6978.90it/s] \n",
      "test 0/1: 100%|██████████| 78757/78757 [00:08<00:00, 6621.68it/s] "
     ]
    },
    {
     "name": "stdout",
     "output_type": "stream",
     "text": [
      "Unique object names for room 8 saved to room_8_unique_objects.csv\n"
     ]
    },
    {
     "name": "stderr",
     "output_type": "stream",
     "text": [
      "test 0/1: 100%|██████████| 78757/78757 [00:12<00:00, 6112.06it/s]\n"
     ]
    },
    {
     "name": "stdout",
     "output_type": "stream",
     "text": [
      "Unique object names for room 9 saved to room_9_unique_objects.csv\n"
     ]
    },
    {
     "name": "stderr",
     "output_type": "stream",
     "text": [
      "test 0/1: 100%|██████████| 48958/48958 [00:06<00:00, 7276.48it/s] \n",
      "test 0/1: 100%|██████████| 86587/86587 [00:08<00:00, 7691.24it/s] "
     ]
    },
    {
     "name": "stdout",
     "output_type": "stream",
     "text": [
      "Unique object names for room 10 saved to room_10_unique_objects.csv\n"
     ]
    },
    {
     "name": "stderr",
     "output_type": "stream",
     "text": [
      "test 0/1: 100%|██████████| 86587/86587 [00:11<00:00, 7254.32it/s]\n"
     ]
    },
    {
     "name": "stdout",
     "output_type": "stream",
     "text": [
      "Unique object names for room 11 saved to room_11_unique_objects.csv\n"
     ]
    },
    {
     "name": "stderr",
     "output_type": "stream",
     "text": [
      "test 0/1: 100%|██████████| 33901/33901 [00:05<00:00, 5799.99it/s] \n",
      "test 0/1: 100%|██████████| 71901/71901 [00:08<00:00, 6646.53it/s] "
     ]
    },
    {
     "name": "stdout",
     "output_type": "stream",
     "text": [
      "Unique object names for room 12 saved to room_12_unique_objects.csv\n"
     ]
    },
    {
     "name": "stderr",
     "output_type": "stream",
     "text": [
      "test 0/1: 100%|██████████| 71901/71901 [00:12<00:00, 5837.52it/s]\n"
     ]
    },
    {
     "name": "stdout",
     "output_type": "stream",
     "text": [
      "Unique object names for room 13 saved to room_13_unique_objects.csv\n"
     ]
    },
    {
     "name": "stderr",
     "output_type": "stream",
     "text": [
      "test 0/1: 100%|██████████| 61867/61867 [00:10<00:00, 5779.20it/s] \n",
      "test 0/1:  99%|█████████▉| 53956/54543 [00:02<00:00, 26281.98it/s]"
     ]
    },
    {
     "name": "stdout",
     "output_type": "stream",
     "text": [
      "Unique object names for room 14 saved to room_14_unique_objects.csv\n"
     ]
    },
    {
     "name": "stderr",
     "output_type": "stream",
     "text": [
      "test 0/1: 100%|██████████| 54543/54543 [00:07<00:00, 7346.35it/s] \n"
     ]
    },
    {
     "name": "stdout",
     "output_type": "stream",
     "text": [
      "Unique object names for room 15 saved to room_15_unique_objects.csv\n"
     ]
    },
    {
     "name": "stderr",
     "output_type": "stream",
     "text": [
      "test 0/1: 100%|██████████| 47193/47193 [00:05<00:00, 8091.71it/s] \n",
      "test 0/1:  96%|█████████▌| 56540/58972 [00:02<00:00, 25461.77it/s]"
     ]
    },
    {
     "name": "stdout",
     "output_type": "stream",
     "text": [
      "Unique object names for room 16 saved to room_16_unique_objects.csv\n"
     ]
    },
    {
     "name": "stderr",
     "output_type": "stream",
     "text": [
      "test 0/1: 100%|██████████| 58972/58972 [00:07<00:00, 7718.11it/s] \n"
     ]
    },
    {
     "name": "stdout",
     "output_type": "stream",
     "text": [
      "Unique object names for room 17 saved to room_17_unique_objects.csv\n"
     ]
    },
    {
     "name": "stderr",
     "output_type": "stream",
     "text": [
      "test 0/1: 100%|██████████| 42587/42587 [00:10<00:00, 3928.63it/s] \n",
      "test 0/1: 100%|█████████▉| 206071/206188 [00:51<00:00, 2319.71it/s]"
     ]
    },
    {
     "name": "stdout",
     "output_type": "stream",
     "text": [
      "Unique object names for room 18 saved to room_18_unique_objects.csv\n"
     ]
    },
    {
     "name": "stderr",
     "output_type": "stream",
     "text": [
      "test 0/1: 100%|██████████| 206188/206188 [01:03<00:00, 3270.92it/s]\n"
     ]
    },
    {
     "name": "stdout",
     "output_type": "stream",
     "text": [
      "Unique object names for room 19 saved to room_19_unique_objects.csv\n"
     ]
    },
    {
     "name": "stderr",
     "output_type": "stream",
     "text": [
      "test 0/1: 100%|██████████| 52805/52805 [00:05<00:00, 9035.33it/s] \n",
      "test 0/1: 100%|██████████| 60837/60837 [00:04<00:00, 11323.94it/s]"
     ]
    },
    {
     "name": "stdout",
     "output_type": "stream",
     "text": [
      "Unique object names for room 20 saved to room_20_unique_objects.csv\n"
     ]
    },
    {
     "name": "stderr",
     "output_type": "stream",
     "text": [
      "test 0/1: 100%|██████████| 60837/60837 [00:08<00:00, 7569.23it/s] \n"
     ]
    },
    {
     "name": "stdout",
     "output_type": "stream",
     "text": [
      "Unique object names for room 21 saved to room_21_unique_objects.csv\n"
     ]
    },
    {
     "name": "stderr",
     "output_type": "stream",
     "text": [
      "test 0/1: 100%|██████████| 47410/47410 [00:07<00:00, 5939.83it/s] \n",
      "test 0/1: 100%|██████████| 66118/66118 [00:04<00:00, 12372.97it/s]"
     ]
    },
    {
     "name": "stdout",
     "output_type": "stream",
     "text": [
      "Unique object names for room 22 saved to room_22_unique_objects.csv\n"
     ]
    },
    {
     "name": "stderr",
     "output_type": "stream",
     "text": [
      "test 0/1: 100%|██████████| 66118/66118 [00:10<00:00, 6597.97it/s] \n"
     ]
    },
    {
     "name": "stdout",
     "output_type": "stream",
     "text": [
      "Unique object names for room 23 saved to room_23_unique_objects.csv\n"
     ]
    },
    {
     "name": "stderr",
     "output_type": "stream",
     "text": [
      "test 0/1: 100%|██████████| 89224/89224 [00:18<00:00, 4807.05it/s]\n",
      "test 0/1: 100%|██████████| 112695/112695 [00:18<00:00, 4160.37it/s]"
     ]
    },
    {
     "name": "stdout",
     "output_type": "stream",
     "text": [
      "Unique object names for room 24 saved to room_24_unique_objects.csv\n"
     ]
    },
    {
     "name": "stderr",
     "output_type": "stream",
     "text": [
      "test 0/1: 100%|██████████| 112695/112695 [00:23<00:00, 4830.58it/s]\n"
     ]
    },
    {
     "name": "stdout",
     "output_type": "stream",
     "text": [
      "Unique object names for room 25 saved to room_25_unique_objects.csv\n"
     ]
    },
    {
     "name": "stderr",
     "output_type": "stream",
     "text": [
      "test 0/1: 100%|██████████| 53571/53571 [00:08<00:00, 6238.29it/s] \n",
      "test 0/1:  99%|█████████▉| 82987/83549 [00:08<00:00, 7794.51it/s] "
     ]
    },
    {
     "name": "stdout",
     "output_type": "stream",
     "text": [
      "Unique object names for room 26 saved to room_26_unique_objects.csv\n"
     ]
    },
    {
     "name": "stderr",
     "output_type": "stream",
     "text": [
      "test 0/1: 100%|██████████| 83549/83549 [00:14<00:00, 5712.48it/s]\n"
     ]
    },
    {
     "name": "stdout",
     "output_type": "stream",
     "text": [
      "Unique object names for room 27 saved to room_27_unique_objects.csv\n"
     ]
    },
    {
     "name": "stderr",
     "output_type": "stream",
     "text": [
      "test 0/1: 100%|██████████| 50411/50411 [00:06<00:00, 8124.01it/s] \n",
      "test 0/1: 100%|██████████| 66642/66642 [00:05<00:00, 11276.00it/s]"
     ]
    },
    {
     "name": "stdout",
     "output_type": "stream",
     "text": [
      "Unique object names for room 28 saved to room_28_unique_objects.csv\n"
     ]
    },
    {
     "name": "stderr",
     "output_type": "stream",
     "text": [
      "test 0/1: 100%|██████████| 66642/66642 [00:08<00:00, 7555.68it/s] \n"
     ]
    },
    {
     "name": "stdout",
     "output_type": "stream",
     "text": [
      "Unique object names for room 29 saved to room_29_unique_objects.csv\n"
     ]
    },
    {
     "name": "stderr",
     "output_type": "stream",
     "text": [
      "test 0/1: 100%|██████████| 51853/51853 [00:07<00:00, 6842.41it/s] \n",
      "test 0/1:  97%|█████████▋| 54182/55983 [00:02<00:00, 25563.38it/s]"
     ]
    },
    {
     "name": "stdout",
     "output_type": "stream",
     "text": [
      "Unique object names for room 30 saved to room_30_unique_objects.csv\n"
     ]
    },
    {
     "name": "stderr",
     "output_type": "stream",
     "text": [
      "test 0/1: 100%|██████████| 55983/55983 [00:07<00:00, 7028.29it/s] \n"
     ]
    },
    {
     "name": "stdout",
     "output_type": "stream",
     "text": [
      "Unique object names for room 31 saved to room_31_unique_objects.csv\n"
     ]
    },
    {
     "name": "stderr",
     "output_type": "stream",
     "text": [
      "test 0/1: 100%|██████████| 56958/56958 [00:08<00:00, 7013.37it/s] \n",
      "test 0/1:  97%|█████████▋| 56238/58050 [00:02<00:00, 25256.02it/s]"
     ]
    },
    {
     "name": "stdout",
     "output_type": "stream",
     "text": [
      "Unique object names for room 32 saved to room_32_unique_objects.csv\n"
     ]
    },
    {
     "name": "stderr",
     "output_type": "stream",
     "text": [
      "test 0/1: 100%|██████████| 58050/58050 [00:07<00:00, 7316.62it/s] \n"
     ]
    },
    {
     "name": "stdout",
     "output_type": "stream",
     "text": [
      "Unique object names for room 33 saved to room_33_unique_objects.csv\n"
     ]
    },
    {
     "name": "stderr",
     "output_type": "stream",
     "text": [
      "test 0/1: 100%|██████████| 50656/50656 [00:07<00:00, 6798.95it/s] \n",
      "test 0/1: 100%|██████████| 74761/74761 [00:13<00:00, 3611.56it/s] "
     ]
    },
    {
     "name": "stdout",
     "output_type": "stream",
     "text": [
      "Unique object names for room 34 saved to room_34_unique_objects.csv\n"
     ]
    },
    {
     "name": "stderr",
     "output_type": "stream",
     "text": [
      "test 0/1: 100%|██████████| 74761/74761 [00:20<00:00, 3698.31it/s]\n"
     ]
    },
    {
     "name": "stdout",
     "output_type": "stream",
     "text": [
      "Unique object names for room 35 saved to room_35_unique_objects.csv\n"
     ]
    },
    {
     "name": "stderr",
     "output_type": "stream",
     "text": [
      "test 0/1: 100%|██████████| 110876/110876 [00:23<00:00, 4758.99it/s]\n",
      "test 0/1:  98%|█████████▊| 54985/56122 [00:02<00:00, 25516.55it/s]"
     ]
    },
    {
     "name": "stdout",
     "output_type": "stream",
     "text": [
      "Unique object names for room 36 saved to room_36_unique_objects.csv\n"
     ]
    },
    {
     "name": "stderr",
     "output_type": "stream",
     "text": [
      "test 0/1: 100%|██████████| 56122/56122 [00:07<00:00, 7536.62it/s] \n"
     ]
    },
    {
     "name": "stdout",
     "output_type": "stream",
     "text": [
      "Unique object names for room 37 saved to room_37_unique_objects.csv\n"
     ]
    },
    {
     "name": "stderr",
     "output_type": "stream",
     "text": [
      "test 0/1: 100%|██████████| 43591/43591 [00:05<00:00, 7956.59it/s] \n",
      "test 0/1:  98%|█████████▊| 59211/60258 [00:02<00:00, 25543.53it/s]"
     ]
    },
    {
     "name": "stdout",
     "output_type": "stream",
     "text": [
      "Unique object names for room 38 saved to room_38_unique_objects.csv\n"
     ]
    },
    {
     "name": "stderr",
     "output_type": "stream",
     "text": [
      "test 0/1: 100%|██████████| 60258/60258 [00:08<00:00, 7304.30it/s] \n"
     ]
    },
    {
     "name": "stdout",
     "output_type": "stream",
     "text": [
      "Unique object names for room 39 saved to room_39_unique_objects.csv\n"
     ]
    },
    {
     "name": "stderr",
     "output_type": "stream",
     "text": [
      "test 0/1: 100%|██████████| 52965/52965 [00:10<00:00, 5258.14it/s] \n",
      "test 0/1: 100%|█████████▉| 111756/111841 [00:18<00:00, 3828.39it/s]"
     ]
    },
    {
     "name": "stdout",
     "output_type": "stream",
     "text": [
      "Unique object names for room 40 saved to room_40_unique_objects.csv\n"
     ]
    },
    {
     "name": "stderr",
     "output_type": "stream",
     "text": [
      "test 0/1: 100%|██████████| 111841/111841 [00:26<00:00, 4283.64it/s]\n"
     ]
    },
    {
     "name": "stdout",
     "output_type": "stream",
     "text": [
      "Unique object names for room 41 saved to room_41_unique_objects.csv\n"
     ]
    },
    {
     "name": "stderr",
     "output_type": "stream",
     "text": [
      "test 0/1: 100%|██████████| 33394/33394 [00:06<00:00, 5428.54it/s] \n",
      "test 0/1: 100%|█████████▉| 86750/86870 [00:08<00:00, 7641.12it/s] "
     ]
    },
    {
     "name": "stdout",
     "output_type": "stream",
     "text": [
      "Unique object names for room 42 saved to room_42_unique_objects.csv\n"
     ]
    },
    {
     "name": "stderr",
     "output_type": "stream",
     "text": [
      "test 0/1: 100%|██████████| 86870/86870 [00:15<00:00, 5444.95it/s]\n"
     ]
    },
    {
     "name": "stdout",
     "output_type": "stream",
     "text": [
      "Unique object names for room 43 saved to room_43_unique_objects.csv\n"
     ]
    },
    {
     "name": "stderr",
     "output_type": "stream",
     "text": [
      "test 0/1: 100%|██████████| 61216/61216 [00:07<00:00, 8002.06it/s] \n",
      "test 0/1: 100%|██████████| 35607/35607 [00:01<00:00, 21579.96it/s]"
     ]
    },
    {
     "name": "stdout",
     "output_type": "stream",
     "text": [
      "Unique object names for room 44 saved to room_44_unique_objects.csv\n"
     ]
    },
    {
     "name": "stderr",
     "output_type": "stream",
     "text": [
      "test 0/1: 100%|██████████| 35607/35607 [00:05<00:00, 7086.90it/s] \n"
     ]
    },
    {
     "name": "stdout",
     "output_type": "stream",
     "text": [
      "Unique object names for room 45 saved to room_45_unique_objects.csv\n"
     ]
    },
    {
     "name": "stderr",
     "output_type": "stream",
     "text": [
      "test 0/1: 100%|██████████| 58361/58361 [00:07<00:00, 7569.57it/s] \n",
      "test 0/1:  99%|█████████▊| 52632/53357 [00:02<00:00, 26259.83it/s]"
     ]
    },
    {
     "name": "stdout",
     "output_type": "stream",
     "text": [
      "Unique object names for room 46 saved to room_46_unique_objects.csv\n"
     ]
    },
    {
     "name": "stderr",
     "output_type": "stream",
     "text": [
      "test 0/1: 100%|██████████| 53357/53357 [00:11<00:00, 4554.20it/s] \n"
     ]
    },
    {
     "name": "stdout",
     "output_type": "stream",
     "text": [
      "Unique object names for room 47 saved to room_47_unique_objects.csv\n"
     ]
    },
    {
     "name": "stderr",
     "output_type": "stream",
     "text": [
      "test 0/1: 100%|██████████| 135800/135800 [00:34<00:00, 3945.35it/s]\n",
      "test 0/1: 100%|██████████| 61703/61703 [00:04<00:00, 11059.15it/s]"
     ]
    },
    {
     "name": "stdout",
     "output_type": "stream",
     "text": [
      "Unique object names for room 48 saved to room_48_unique_objects.csv\n"
     ]
    },
    {
     "name": "stderr",
     "output_type": "stream",
     "text": [
      "test 0/1: 100%|██████████| 61703/61703 [00:08<00:00, 6969.04it/s] \n"
     ]
    },
    {
     "name": "stdout",
     "output_type": "stream",
     "text": [
      "Unique object names for room 49 saved to room_49_unique_objects.csv\n"
     ]
    },
    {
     "name": "stderr",
     "output_type": "stream",
     "text": [
      "test 0/1: 100%|██████████| 61425/61425 [00:15<00:00, 3854.19it/s] \n",
      "test 0/1: 100%|██████████| 190530/190530 [00:48<00:00, 1744.84it/s]"
     ]
    },
    {
     "name": "stdout",
     "output_type": "stream",
     "text": [
      "Unique object names for room 50 saved to room_50_unique_objects.csv\n"
     ]
    },
    {
     "name": "stderr",
     "output_type": "stream",
     "text": [
      "test 0/1: 100%|██████████| 190530/190530 [00:54<00:00, 3519.63it/s]\n"
     ]
    },
    {
     "name": "stdout",
     "output_type": "stream",
     "text": [
      "Unique object names for room 51 saved to room_51_unique_objects.csv\n"
     ]
    },
    {
     "name": "stderr",
     "output_type": "stream",
     "text": [
      "test 0/1: 100%|██████████| 56214/56214 [00:07<00:00, 7042.14it/s] \n",
      "test 0/1: 100%|██████████| 51187/51187 [00:02<00:00, 24979.45it/s]"
     ]
    },
    {
     "name": "stdout",
     "output_type": "stream",
     "text": [
      "Unique object names for room 52 saved to room_52_unique_objects.csv\n"
     ]
    },
    {
     "name": "stderr",
     "output_type": "stream",
     "text": [
      "test 0/1: 100%|██████████| 51187/51187 [00:06<00:00, 7570.05it/s] \n"
     ]
    },
    {
     "name": "stdout",
     "output_type": "stream",
     "text": [
      "Unique object names for room 53 saved to room_53_unique_objects.csv\n"
     ]
    },
    {
     "name": "stderr",
     "output_type": "stream",
     "text": [
      "test 0/1: 100%|██████████| 82892/82892 [00:15<00:00, 5344.51it/s]\n",
      "test 0/1: 100%|█████████▉| 53979/54129 [00:02<00:00, 25339.22it/s]"
     ]
    },
    {
     "name": "stdout",
     "output_type": "stream",
     "text": [
      "Unique object names for room 54 saved to room_54_unique_objects.csv\n"
     ]
    },
    {
     "name": "stderr",
     "output_type": "stream",
     "text": [
      "test 0/1: 100%|██████████| 54129/54129 [00:08<00:00, 6204.85it/s] \n"
     ]
    },
    {
     "name": "stdout",
     "output_type": "stream",
     "text": [
      "Unique object names for room 55 saved to room_55_unique_objects.csv\n"
     ]
    },
    {
     "name": "stderr",
     "output_type": "stream",
     "text": [
      "test 0/1: 100%|██████████| 68818/68818 [00:14<00:00, 4680.95it/s] \n",
      "test 0/1: 100%|██████████| 181268/181268 [00:39<00:00, 2792.42it/s]"
     ]
    },
    {
     "name": "stdout",
     "output_type": "stream",
     "text": [
      "Unique object names for room 56 saved to room_56_unique_objects.csv\n"
     ]
    },
    {
     "name": "stderr",
     "output_type": "stream",
     "text": [
      "test 0/1: 100%|██████████| 181268/181268 [00:46<00:00, 3933.40it/s]\n"
     ]
    },
    {
     "name": "stdout",
     "output_type": "stream",
     "text": [
      "Unique object names for room 57 saved to room_57_unique_objects.csv\n"
     ]
    },
    {
     "name": "stderr",
     "output_type": "stream",
     "text": [
      "test 0/1: 100%|██████████| 66839/66839 [00:10<00:00, 6659.82it/s] \n",
      "test 0/1: 100%|██████████| 132331/132331 [00:26<00:00, 2858.63it/s]"
     ]
    },
    {
     "name": "stdout",
     "output_type": "stream",
     "text": [
      "Unique object names for room 58 saved to room_58_unique_objects.csv\n"
     ]
    },
    {
     "name": "stderr",
     "output_type": "stream",
     "text": [
      "test 0/1: 100%|██████████| 132331/132331 [00:32<00:00, 4027.46it/s]\n"
     ]
    },
    {
     "name": "stdout",
     "output_type": "stream",
     "text": [
      "Unique object names for room 59 saved to room_59_unique_objects.csv\n"
     ]
    },
    {
     "name": "stderr",
     "output_type": "stream",
     "text": [
      "test 0/1: 100%|██████████| 72048/72048 [00:10<00:00, 6604.08it/s] \n",
      "test 0/1: 100%|██████████| 81405/81405 [00:09<00:00, 6295.51it/s] "
     ]
    },
    {
     "name": "stdout",
     "output_type": "stream",
     "text": [
      "Unique object names for room 60 saved to room_60_unique_objects.csv\n"
     ]
    },
    {
     "name": "stderr",
     "output_type": "stream",
     "text": [
      "test 0/1: 100%|██████████| 81405/81405 [00:15<00:00, 5198.86it/s]\n"
     ]
    },
    {
     "name": "stdout",
     "output_type": "stream",
     "text": [
      "Unique object names for room 61 saved to room_61_unique_objects.csv\n"
     ]
    },
    {
     "name": "stderr",
     "output_type": "stream",
     "text": [
      "test 0/1: 100%|██████████| 101601/101601 [00:22<00:00, 4568.44it/s]\n",
      "test 0/1: 100%|██████████| 82664/82664 [00:05<00:00, 12387.45it/s]"
     ]
    },
    {
     "name": "stdout",
     "output_type": "stream",
     "text": [
      "Unique object names for room 62 saved to room_62_unique_objects.csv\n"
     ]
    },
    {
     "name": "stderr",
     "output_type": "stream",
     "text": [
      "test 0/1: 100%|██████████| 82664/82664 [00:21<00:00, 3856.70it/s] \n"
     ]
    },
    {
     "name": "stdout",
     "output_type": "stream",
     "text": [
      "Unique object names for room 63 saved to room_63_unique_objects.csv\n"
     ]
    },
    {
     "name": "stderr",
     "output_type": "stream",
     "text": [
      "test 0/1: 100%|██████████| 291324/291324 [02:26<00:00, 1990.94it/s]\n",
      "test 0/1:  99%|█████████▊| 57663/58417 [00:02<00:00, 25724.16it/s]"
     ]
    },
    {
     "name": "stdout",
     "output_type": "stream",
     "text": [
      "Unique object names for room 64 saved to room_64_unique_objects.csv\n"
     ]
    },
    {
     "name": "stderr",
     "output_type": "stream",
     "text": [
      "test 0/1: 100%|██████████| 58417/58417 [00:12<00:00, 4539.19it/s] \n"
     ]
    },
    {
     "name": "stdout",
     "output_type": "stream",
     "text": [
      "Unique object names for room 65 saved to room_65_unique_objects.csv\n"
     ]
    },
    {
     "name": "stderr",
     "output_type": "stream",
     "text": [
      "test 0/1: 100%|██████████| 175580/175580 [00:48<00:00, 3592.90it/s]\n",
      "test 0/1: 100%|██████████| 219688/219688 [01:18<00:00, 1070.33it/s]"
     ]
    },
    {
     "name": "stdout",
     "output_type": "stream",
     "text": [
      "Unique object names for room 66 saved to room_66_unique_objects.csv\n"
     ]
    },
    {
     "name": "stderr",
     "output_type": "stream",
     "text": [
      "test 0/1: 100%|██████████| 219688/219688 [01:26<00:00, 2539.76it/s]\n"
     ]
    },
    {
     "name": "stdout",
     "output_type": "stream",
     "text": [
      "Unique object names for room 67 saved to room_67_unique_objects.csv\n"
     ]
    },
    {
     "name": "stderr",
     "output_type": "stream",
     "text": []
    }
   ],
   "source": [
    "# Step 1: Load the test split\n",
    "test_split = dataset.get_split(\"test\")\n",
    "\n",
    "# Step 2: Loop through all samples in the test split\n",
    "for i in range(len(test_split)):\n",
    "    # Retrieve each sample\n",
    "    data = test_split.get_data(i)\n",
    "    \n",
    "    # Run inference on the sample\n",
    "    result = pipeline.run_inference(data)\n",
    "    \n",
    "    # Combine point cloud coordinates and predicted labels\n",
    "    points = data[\"point\"]  # 3D coordinates (x, y, z)\n",
    "    labels = result[\"predict_labels\"]  # Predicted labels\n",
    "    \n",
    "    # Prepare data for classification in a structured format\n",
    "    classification_data = {\n",
    "        \"x\": points[:, 0],\n",
    "        \"y\": points[:, 1],\n",
    "        \"z\": points[:, 2],\n",
    "        \"label\": labels  # Predicted semantic segmentation labels\n",
    "    }\n",
    "    \n",
    "    df = pd.DataFrame(classification_data)\n",
    "    \n",
    "    # Step 3: Class mapping\n",
    "    class_mapping = {\n",
    "        0: \"ceiling\",\n",
    "        1: \"floor\",\n",
    "        2: \"wall\",\n",
    "        3: \"beam\",\n",
    "        4: \"column\",\n",
    "        5: \"window\",\n",
    "        6: \"door\",\n",
    "        7: \"table\",\n",
    "        8: \"chair\",\n",
    "        9: \"sofa\",\n",
    "        10: \"bookcase\",\n",
    "        11: \"board\",\n",
    "        12: \"clutter\"\n",
    "    }\n",
    "    \n",
    "    # Add object names based on the class_mapping dictionary\n",
    "    df[\"object_name\"] = df[\"label\"].map(class_mapping)\n",
    "\n",
    "    # Group by object_name to get only one instance per class as requested from classification team\n",
    "    unique_object_names_df = df[[\"object_name\"]].drop_duplicates().reset_index(drop=True)\n",
    "    \n",
    "    # Step 4: Save each room's unique object names to its own CSV file\n",
    "    output_csv_path = f\"room_{i}_unique_objects.csv\"  # Unique filename for each room\n",
    "    unique_object_names_df.to_csv(output_csv_path, index=False)\n",
    "    print(f\"Unique object names for room {i} saved to {output_csv_path}\")\n",
    "\n",
    "    # We changed the name from the room index to the name of the room manually"
   ]
  },
  {
   "cell_type": "code",
   "execution_count": null,
   "metadata": {},
   "outputs": [
    {
     "name": "stderr",
     "output_type": "stream",
     "text": [
      "test 0/1: 100%|██████████| 94538/94538 [06:15<00:00, 251.50it/s] \n",
      "test 0/68: 100%|██████████| 48110/48110 [00:07<00:00, 6766.18it/s] \n",
      "test 1/68: 100%|██████████| 51884/51884 [00:09<00:00, 5734.37it/s] \n",
      "test 2/68: 100%|██████████| 78356/78356 [00:09<00:00, 8104.10it/s] \n",
      "test 3/68: 100%|██████████| 51768/51768 [00:05<00:00, 9124.60it/s]\n",
      "test 4/68: 100%|██████████| 85196/85196 [00:14<00:00, 5885.32it/s] \n",
      "test 5/68: 100%|██████████| 56274/56274 [00:05<00:00, 9601.34it/s] \n",
      "test 6/68: 100%|██████████| 13209/13209 [00:03<00:00, 4270.41it/s]\n",
      "test 7/68: 100%|██████████| 46422/46422 [00:08<00:00, 5333.43it/s] \n",
      "test 8/68: 100%|██████████| 78757/78757 [00:09<00:00, 8332.50it/s] \n",
      "test 9/68: 100%|██████████| 48958/48958 [00:05<00:00, 9074.74it/s]\n",
      "test 10/68: 100%|██████████| 86587/86587 [00:13<00:00, 6613.07it/s] \n",
      "test 11/68: 100%|██████████| 33901/33901 [00:07<00:00, 4551.46it/s] \n",
      "test 12/68: 100%|██████████| 71901/71901 [00:13<00:00, 5305.86it/s] \n",
      "test 13/68: 100%|██████████| 61867/61867 [00:11<00:00, 5267.36it/s] \n",
      "test 14/68: 100%|██████████| 54543/54543 [00:07<00:00, 7515.00it/s] \n",
      "test 15/68: 100%|██████████| 47193/47193 [00:04<00:00, 11020.99it/s]\n",
      "test 16/68: 100%|██████████| 58972/58972 [00:07<00:00, 7966.86it/s] \n",
      "test 17/68: 100%|██████████| 42587/42587 [00:09<00:00, 4317.48it/s]\n",
      "test 18/68: 100%|██████████| 206188/206188 [01:02<00:00, 3286.99it/s]\n",
      "test 19/68: 100%|██████████| 52805/52805 [00:07<00:00, 6828.90it/s] \n",
      "test 20/68: 100%|██████████| 60837/60837 [00:07<00:00, 7718.38it/s] \n",
      "test 21/68: 100%|██████████| 47410/47410 [00:04<00:00, 10141.52it/s]\n",
      "test 22/68: 100%|██████████| 66118/66118 [00:09<00:00, 6652.37it/s] \n",
      "test 23/68: 100%|██████████| 89224/89224 [00:17<00:00, 5129.18it/s]\n",
      "test 24/68: 100%|██████████| 112695/112695 [00:23<00:00, 4769.60it/s]\n",
      "test 25/68: 100%|██████████| 53571/53571 [00:08<00:00, 6154.34it/s] \n",
      "test 26/68: 100%|██████████| 83549/83549 [00:13<00:00, 6280.08it/s] \n",
      "test 27/68: 100%|██████████| 50411/50411 [00:08<00:00, 6077.17it/s] \n",
      "test 28/68: 100%|██████████| 66642/66642 [00:12<00:00, 5303.78it/s] \n",
      "test 29/68: 100%|██████████| 51853/51853 [00:07<00:00, 6864.58it/s] \n",
      "test 30/68: 100%|██████████| 55983/55983 [00:07<00:00, 7153.44it/s] \n",
      "test 31/68: 100%|██████████| 56958/56958 [00:08<00:00, 7063.36it/s] \n",
      "test 32/68: 100%|██████████| 58050/58050 [00:11<00:00, 5005.02it/s] \n",
      "test 33/68: 100%|██████████| 50656/50656 [00:09<00:00, 5441.23it/s] \n",
      "test 34/68: 100%|██████████| 74761/74761 [00:18<00:00, 4068.25it/s] \n",
      "test 35/68: 100%|██████████| 110876/110876 [00:29<00:00, 3771.08it/s]\n",
      "test 36/68: 100%|██████████| 56122/56122 [00:07<00:00, 7621.94it/s] \n",
      "test 37/68: 100%|██████████| 43591/43591 [00:07<00:00, 6025.75it/s] \n",
      "test 38/68: 100%|██████████| 60258/60258 [00:08<00:00, 7226.37it/s] \n",
      "test 39/68: 100%|██████████| 52965/52965 [00:10<00:00, 5243.00it/s] \n",
      "test 40/68: 100%|██████████| 111841/111841 [00:22<00:00, 4975.61it/s]\n",
      "test 41/68: 100%|██████████| 33394/33394 [00:05<00:00, 6176.41it/s]\n",
      "test 42/68: 100%|██████████| 86870/86870 [00:14<00:00, 5977.28it/s] \n",
      "test 43/68: 100%|██████████| 61216/61216 [00:11<00:00, 5418.66it/s] \n",
      "test 44/68: 100%|██████████| 35607/35607 [00:04<00:00, 8759.33it/s]\n",
      "test 45/68: 100%|██████████| 58361/58361 [00:07<00:00, 7665.96it/s] \n",
      "test 46/68: 100%|██████████| 53357/53357 [00:11<00:00, 4476.28it/s] \n",
      "test 47/68: 100%|██████████| 135800/135800 [00:37<00:00, 3619.90it/s]\n",
      "test 48/68: 100%|██████████| 61703/61703 [00:08<00:00, 7010.16it/s] \n",
      "test 49/68: 100%|██████████| 61425/61425 [00:13<00:00, 4471.58it/s] \n",
      "test 50/68: 100%|██████████| 190530/190530 [00:59<00:00, 3208.30it/s]\n",
      "test 51/68: 100%|██████████| 56214/56214 [00:07<00:00, 7166.55it/s] \n",
      "test 52/68: 100%|██████████| 51187/51187 [00:08<00:00, 5721.56it/s] \n",
      "test 53/68: 100%|██████████| 82892/82892 [00:14<00:00, 5879.94it/s] \n",
      "test 54/68: 100%|██████████| 54129/54129 [00:08<00:00, 6215.11it/s] \n",
      "test 55/68: 100%|██████████| 68818/68818 [00:18<00:00, 3653.85it/s] \n",
      "test 56/68: 100%|██████████| 181268/181268 [00:44<00:00, 4077.43it/s]\n",
      "test 57/68: 100%|██████████| 66839/66839 [00:12<00:00, 5376.12it/s] \n",
      "test 58/68: 100%|██████████| 132331/132331 [00:28<00:00, 4691.49it/s]\n",
      "test 59/68: 100%|██████████| 72048/72048 [00:10<00:00, 6665.43it/s] \n",
      "test 60/68: 100%|██████████| 81405/81405 [00:12<00:00, 6728.78it/s] \n",
      "test 61/68: 100%|██████████| 101601/101601 [00:22<00:00, 4477.58it/s]\n",
      "test 62/68: 100%|██████████| 82664/82664 [00:27<00:00, 3033.59it/s] \n",
      "test 63/68: 100%|██████████| 291324/291324 [02:19<00:00, 2087.80it/s]\n",
      "test 64/68: 100%|██████████| 58417/58417 [00:12<00:00, 4529.84it/s] \n",
      "test 65/68: 100%|██████████| 175580/175580 [00:55<00:00, 3142.78it/s]\n",
      "test 66/68: 100%|██████████| 219688/219688 [01:30<00:00, 2429.92it/s]\n"
     ]
    },
    {
     "name": "stdout",
     "output_type": "stream",
     "text": [
      "Performance Metrics: None\n",
      "Log is written in /Users/muhammadnumanmuttaqi/Documents/MScITBE/Semester2/SoftwareLab/SL/logs/evaluation.log\n"
     ]
    },
    {
     "name": "stderr",
     "output_type": "stream",
     "text": []
    }
   ],
   "source": [
    "# Record the result of the performance\n",
    "# Manual logging\n",
    "import logging\n",
    "\n",
    "# Setup logging\n",
    "log_file_path = os.path.join(ckpt_folder, 'evaluation.log')\n",
    "logging.basicConfig(filename=log_file_path, level=logging.INFO, format='%(asctime)s - %(levelname)s - %(message)s')\n",
    "\n",
    "# Log inference result\n",
    "logging.info(\"Inference result: %s\", result)\n",
    "\n",
    "# Evaluate performance on the test set\n",
    "performance_metrics = pipeline.run_test()\n",
    "\n",
    "# Output to console for verification\n",
    "print(\"Performance Metrics:\", performance_metrics)\n",
    "print(f\"Log is written in {log_file_path}\")"
   ]
  },
  {
   "cell_type": "code",
   "execution_count": 5,
   "metadata": {},
   "outputs": [
    {
     "name": "stdout",
     "output_type": "stream",
     "text": [
      "{'idx': 0, 'name': 'Area_3_hallway_6', 'path': 'S3DIS/original_pkl/Area_3_hallway_6.pkl', 'split': 'all'}\n",
      "(207314, 3)\n",
      "FEngine (64 bits) created at 0x2b6a00000 (threading is enabled)\n",
      "FEngine resolved backend: OpenGL\n"
     ]
    },
    {
     "name": "stderr",
     "output_type": "stream",
     "text": [
      "[error] GLFW error: Cocoa: Failed to find service port for display\n"
     ]
    },
    {
     "ename": "",
     "evalue": "",
     "output_type": "error",
     "traceback": [
      "\u001b[1;31mThe Kernel crashed while executing code in the current cell or a previous cell. \n",
      "\u001b[1;31mPlease review the code in the cell(s) to identify a possible cause of the failure. \n",
      "\u001b[1;31mClick <a href='https://aka.ms/vscodeJupyterKernelCrash'>here</a> for more info. \n",
      "\u001b[1;31mView Jupyter <a href='command:jupyter.viewOutput'>log</a> for further details."
     ]
    }
   ],
   "source": [
    "# Visualize the dataset with open3D-ML visualizer\n",
    "# get the 'all' split that combines training, validation and test set\n",
    "all_split = dataset.get_split('all')\n",
    "\n",
    "# print the attributes of the first datum\n",
    "print(all_split.get_attr(0))\n",
    "\n",
    "# print the shape of the first point cloud\n",
    "print(all_split.get_data(0)['point'].shape)\n",
    "\n",
    "# show the first 100 frames using the visualizer\n",
    "vis = ml3d.vis.Visualizer()\n",
    "vis.visualize_dataset(dataset, 'all', indices=range(100))"
   ]
  }
 ],
 "metadata": {
  "kernelspec": {
   "display_name": "open3dml3",
   "language": "python",
   "name": "python3"
  },
  "language_info": {
   "codemirror_mode": {
    "name": "ipython",
    "version": 3
   },
   "file_extension": ".py",
   "mimetype": "text/x-python",
   "name": "python",
   "nbconvert_exporter": "python",
   "pygments_lexer": "ipython3",
   "version": "3.10.14"
  },
  "polyglot_notebook": {
   "kernelInfo": {
    "defaultKernelName": "csharp",
    "items": [
     {
      "aliases": [],
      "name": "csharp"
     }
    ]
   }
  }
 },
 "nbformat": 4,
 "nbformat_minor": 2
}
